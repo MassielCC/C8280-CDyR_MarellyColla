{
  "nbformat": 4,
  "nbformat_minor": 0,
  "metadata": {
    "colab": {
      "provenance": []
    },
    "kernelspec": {
      "name": "python3",
      "display_name": "Python 3"
    },
    "language_info": {
      "name": "python"
    }
  },
  "cells": [
    {
      "cell_type": "markdown",
      "source": [
        "# **Problema 1**"
      ],
      "metadata": {
        "id": "KeGYPaWRmSbd"
      }
    },
    {
      "cell_type": "code",
      "execution_count": 8,
      "metadata": {
        "colab": {
          "base_uri": "https://localhost:8080/"
        },
        "id": "1XcbVLQhVoQl",
        "outputId": "9eb84f23-f3d8-440b-ea08-a9b8f9f6d4fe"
      },
      "outputs": [
        {
          "output_type": "stream",
          "name": "stdout",
          "text": [
            "Mensaje enviado por cliente: eco: Hola Mundo\n",
            "Servidor dice: Hola Mundo\n",
            "Mensaje enviado por cliente: reverso: Hola Mundo\n",
            "Servidor dice: odnuM aloH\n",
            "Mensaje enviado por cliente: sumar: 123 + 456 + 10\n",
            "Servidor dice: 589\n",
            "Mensaje enviado por cliente: mayusculas: Hola mundo\n",
            "Servidor dice: HOLA MUNDO\n",
            "Mensaje enviado por cliente: funcionX Hola mundo\n",
            "Servidor dice: La estructura del mensaje no es válida\n",
            "Mensaje enviado por cliente: : \n",
            "Servidor dice: La estructura del mensaje no es válida\n"
          ]
        }
      ],
      "source": [
        "import time\n",
        "import random\n",
        "\n",
        "# Definir las funciones del servidor\n",
        "def servidor(mensaje):\n",
        "    \"\"\"Procesa los mensajes enviados por el cliente según el comando especificado.\"\"\"\n",
        "    comando, _, contenido = mensaje.partition(':')\n",
        "    validar=False\n",
        "    if mensaje.find(':')!= -1 and len(comando)>0 and len(contenido)>0:\n",
        "      #si encuenta el simbolo ':' verificar que tenga contenido antes y despues\n",
        "      validar=True\n",
        "    if validar:\n",
        "      if comando.strip().lower() == 'eco':\n",
        "          return contenido.strip()\n",
        "      elif comando.strip().lower() == 'reverso':\n",
        "          return contenido.strip()[::-1]\n",
        "      elif comando.strip().lower() == 'sumar':\n",
        "          aux=contenido.strip().split(\"+\")\n",
        "          return sum(int(elem.strip()) for elem in aux)\n",
        "      elif comando.strip().lower() == 'mayusculas':\n",
        "          return contenido.strip().upper()\n",
        "      else:\n",
        "          return \"Comando no reconocido.\"\n",
        "    else:\n",
        "      return \"La estructura del mensaje no es válida\"\n",
        "\n",
        "# Definir el cliente\n",
        "def cliente(mensaje):\n",
        "    \"\"\"Envía mensajes al servidor y procesa la respuesta.\"\"\"\n",
        "    print(f\"Mensaje enviado por cliente: {mensaje}\")\n",
        "    respuesta = servidor(mensaje)\n",
        "    #Simular retraso en respuesta\n",
        "    retraso=random.uniform(1,3)\n",
        "    time.sleep(retraso)\n",
        "    print(f\"Servidor dice: {respuesta}\")\n",
        "\n",
        "def main():\n",
        "    cliente(\"eco: Hola Mundo\")\n",
        "    cliente(\"reverso: Hola Mundo\")\n",
        "    cliente(\"sumar: 123 + 456 + 10\")\n",
        "    cliente(\"mayusculas: Hola mundo\")\n",
        "    cliente(\"funcionX Hola mundo\") # no sigue la estructura\n",
        "    cliente(\": \") #envia mensaje vacio\n",
        "\n",
        "if __name__ == \"__main__\":\n",
        "    main()"
      ]
    },
    {
      "cell_type": "markdown",
      "source": [
        "# **Problema 2**"
      ],
      "metadata": {
        "id": "TDHmHRevmWaI"
      }
    },
    {
      "cell_type": "code",
      "source": [
        "def calcular_checksum_simple(datos):\n",
        "    \"\"\"Calcula el checksum simple de un string de datos.\"\"\"\n",
        "    return sum(ord(c) for c in datos) % 256\n",
        "\n",
        "# Funcion 2\n",
        "def calcular_crc(datos):\n",
        "    \"\"\"Calcula el CRC-32 de un string de datos.\"\"\"\n",
        "    from zlib import crc32\n",
        "    # crc32: Calcula la suma de verificación CRC32\n",
        "    # encode(): Convierte datos en una secuencia de bytes\n",
        "    # 0xffffffff --> resultado debe ser un entero de 32 bits sin signo\n",
        "    return crc32(datos.encode()) & 0xffffffff\n",
        "\n",
        "# Parte 3\n",
        "def enviar_datos(datos, metodo='checksum'):\n",
        "    \"\"\"Simula el envío de datos incluyendo un checksum o CRC.\"\"\"\n",
        "    if metodo == 'checksum':\n",
        "        checksum = calcular_checksum_simple(datos)\n",
        "        #Agregar error si hay un Hola en el mensaje\n",
        "        if datos.find(\"Hola\")!=-1:\n",
        "          checksum+= 10\n",
        "        return datos, checksum\n",
        "    elif metodo == 'crc':\n",
        "        crc = calcular_crc(datos)\n",
        "        #Agregar error si hay un Mundo en el mensaje\n",
        "        if datos.find(\"Mundo\")!=-1:\n",
        "          crc+= 11\n",
        "        return datos, crc\n",
        "\n",
        "def recibir_datos(datos, valor, metodo='checksum'):\n",
        "    \"\"\"Verifica la integridad de los datos recibidos utilizando checksum o CRC.\"\"\"\n",
        "    if metodo == 'checksum':\n",
        "        checksum_calculado = calcular_checksum_simple(datos)\n",
        "        es_valido = checksum_calculado == valor\n",
        "    elif metodo == 'crc':\n",
        "        crc_calculado = calcular_crc(datos)\n",
        "        es_valido = crc_calculado == valor\n",
        "\n",
        "    return es_valido\n",
        "\n",
        "# Demostración\n",
        "datos_enviados, checksum = enviar_datos(\"Hola Mundo\", metodo='checksum')\n",
        "print(\"Checksum enviado:\", checksum)\n",
        "es_correcto = recibir_datos(datos_enviados, checksum, metodo='checksum')\n",
        "print(\"¿Checksum correcto?\", es_correcto)\n",
        "\n",
        "datos_enviados, crc = enviar_datos(\"Hola y adios\", metodo='crc')\n",
        "print(\"CRC enviado:\", crc)\n",
        "es_correcto = recibir_datos(datos_enviados, crc, metodo='crc')\n",
        "print(\"¿CRC correcto?\", es_correcto)\n",
        "\n",
        "datos_enviados2, checksum2 = enviar_datos(\"Adios Mundo\", metodo='checksum')\n",
        "print(\"Checksum enviado:\", checksum2)\n",
        "es_correcto2 = recibir_datos(datos_enviados2, checksum2, metodo='checksum')\n",
        "print(\"¿Checksum correcto?\", es_correcto2)\n",
        "\n",
        "datos_enviados, crc = enviar_datos(\"Hola Mundo\", metodo='crc')\n",
        "print(\"CRC enviado:\", crc)\n",
        "es_correcto = recibir_datos(datos_enviados, crc, metodo='crc')\n",
        "print(\"¿CRC correcto?\", es_correcto)"
      ],
      "metadata": {
        "colab": {
          "base_uri": "https://localhost:8080/"
        },
        "id": "7LBZLceomPqV",
        "outputId": "f9c73fa5-a0ae-40b8-d001-9661bdb451dd"
      },
      "execution_count": 16,
      "outputs": [
        {
          "output_type": "stream",
          "name": "stdout",
          "text": [
            "Checksum enviado: 177\n",
            "¿Checksum correcto? False\n",
            "CRC enviado: 4110843894\n",
            "¿CRC correcto? True\n",
            "Checksum enviado: 19\n",
            "¿Checksum correcto? True\n",
            "CRC enviado: 574844637\n",
            "¿CRC correcto? False\n"
          ]
        }
      ]
    }
  ]
}