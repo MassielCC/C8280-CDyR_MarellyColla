{
  "nbformat": 4,
  "nbformat_minor": 0,
  "metadata": {
    "colab": {
      "provenance": []
    },
    "kernelspec": {
      "name": "python3",
      "display_name": "Python 3"
    },
    "language_info": {
      "name": "python"
    }
  },
  "cells": [
    {
      "cell_type": "code",
      "execution_count": 7,
      "metadata": {
        "colab": {
          "base_uri": "https://localhost:8080/"
        },
        "id": "1XcbVLQhVoQl",
        "outputId": "f8b2137d-5d4c-4057-e2a2-e67d5bdffa21"
      },
      "outputs": [
        {
          "output_type": "stream",
          "name": "stdout",
          "text": [
            "Mensaje enviado por cliente: eco: Hola Mundo\n",
            "Servidor dice: Hola Mundo\n",
            "Mensaje enviado por cliente: reverso: Hola Mundo\n",
            "Servidor dice: odnuM aloH\n",
            "Mensaje enviado por cliente: sumar: 123 + 456 + 10\n",
            "Servidor dice: 589\n",
            "Mensaje enviado por cliente: mayusculas: Hola mundo\n",
            "Servidor dice: HOLA MUNDO\n",
            "Mensaje enviado por cliente: funcionX Hola mundo\n",
            "Servidor dice: La estructura del mensaje no es válida\n",
            "Mensaje enviado por cliente: : \n",
            "Servidor dice: La estructura del mensaje no es válida\n"
          ]
        }
      ],
      "source": [
        "import time\n",
        "import random\n",
        "\n",
        "# Definir las funciones del servidor\n",
        "def servidor(mensaje):\n",
        "    \"\"\"Procesa los mensajes enviados por el cliente según el comando especificado.\"\"\"\n",
        "    comando, _, contenido = mensaje.partition(':')\n",
        "    validar=False\n",
        "    if mensaje.find(':')!= -1 and len(comando)>0 and len(contenido)>0:\n",
        "      #si encuenta el simbolo ':' verificar que tenga contenido antes y despues\n",
        "      validar=True\n",
        "    if validar:\n",
        "      if comando.strip().lower() == 'eco':\n",
        "          return contenido.strip()\n",
        "      elif comando.strip().lower() == 'reverso':\n",
        "          return contenido.strip()[::-1]\n",
        "      elif comando.strip().lower() == 'sumar':\n",
        "          aux=contenido.strip().split(\"+\")\n",
        "          suma=0\n",
        "          for elem in aux:\n",
        "            suma+=int(elem.strip())\n",
        "          return suma\n",
        "      elif comando.strip().lower() == 'mayusculas':\n",
        "          return contenido.strip().upper()\n",
        "      else:\n",
        "          return \"Comando no reconocido.\"\n",
        "    else:\n",
        "      return \"La estructura del mensaje no es válida\"\n",
        "\n",
        "# Definir el cliente\n",
        "def cliente(mensaje):\n",
        "    \"\"\"Envía mensajes al servidor y procesa la respuesta.\"\"\"\n",
        "    print(f\"Mensaje enviado por cliente: {mensaje}\")\n",
        "    respuesta = servidor(mensaje)\n",
        "    #Simular retraso en respuesta\n",
        "    retraso=random.uniform(1,3)\n",
        "    time.sleep(retraso)\n",
        "    print(f\"Servidor dice: {respuesta}\")\n",
        "\n",
        "def main():\n",
        "    cliente(\"eco: Hola Mundo\")\n",
        "    cliente(\"reverso: Hola Mundo\")\n",
        "    cliente(\"sumar: 123 + 456 + 10\")\n",
        "    cliente(\"mayusculas: Hola mundo\")\n",
        "    cliente(\"funcionX Hola mundo\") # no sigue la estructura\n",
        "    cliente(\": \") #envia mensaje vacio\n",
        "\n",
        "if __name__ == \"__main__\":\n",
        "    main()"
      ]
    }
  ]
}